{
 "cells": [
  {
   "cell_type": "code",
   "execution_count": null,
   "id": "64795add",
   "metadata": {
    "vscode": {
     "languageId": "plaintext"
    }
   },
   "outputs": [],
   "source": [
    "import pandas as pd\n",
    "import matplotlib.pyplot as plt\n",
    "import seaborn as sns\n",
    "\n",
    "df = pd.read_csv('music.csv')\n",
    "\n",
    "df.info()\n",
    "\n",
    "df.head()\n",
    "\n",
    "df.isnull().sum()  \n",
    "\n",
    "df = df.drop(columns=[\"Unnamed: 0\"])\n",
    "\n",
    "df[\"release_date\"] = pd.to_datetime(df[\"release_date\"], format=\"%Y\")\n",
    "\n",
    "duplicates = df[df.duplicated(subset=[\"artist_name\", \"track_name\"])]\n",
    "print(\"Duplicatas:\", len(duplicates))\n",
    "\n",
    "df[\"genre\"] = df[\"genre\"].str.lower().str.strip()\n",
    "df[\"topic\"] = df[\"topic\"].str.lower().str.strip()\n",
    "\n",
    "print(df.describe())\n",
    "\n",
    "print(df.groupby(\"genre\")[[\"danceability\", \"energy\", \"valence\"]].mean())\n",
    "\n",
    "\n",
    "df[\"decade\"] = (df[\"release_date\"].dt.year // 10) * 10\n",
    "print(df.groupby(\"decade\")[[\"danceability\", \"energy\", \"valence\"]].mean())\n",
    "\n",
    "songs_decade = df[\"decade\"].value_counts().sort_index()\n",
    "top_genres = df[\"genre\"].value_counts().head(10)\n",
    "top_artists = df[\"artist_name\"].value_counts().head(10)\n",
    "top_topics = df[\"topic\"].value_counts().head(10)\n",
    "print(songs_decade, top_genres, top_artists, top_topics)\n",
    "\n",
    "corr = df[[\"danceability\",\"energy\",\"valence\",\"loudness\",\"acousticness\",\"instrumentalness\"]].corr()\n",
    "print(corr)"
   ]
  }
 ],
 "metadata": {
  "language_info": {
   "name": "python"
  }
 },
 "nbformat": 4,
 "nbformat_minor": 5
}
