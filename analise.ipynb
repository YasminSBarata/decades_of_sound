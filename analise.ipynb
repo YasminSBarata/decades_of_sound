{
 "cells": [
  {
   "cell_type": "code",
   "execution_count": 9,
   "id": "5d396ff6",
   "metadata": {},
   "outputs": [],
   "source": [
    "import pandas as pd\n",
    "import matplotlib.pyplot as plt\n",
    "import seaborn as sns"
   ]
  },
  {
   "cell_type": "code",
   "execution_count": 10,
   "id": "f98df23a",
   "metadata": {},
   "outputs": [],
   "source": [
    "df = pd.read_csv('music.csv')"
   ]
  },
  {
   "cell_type": "code",
   "execution_count": 11,
   "id": "52844474",
   "metadata": {},
   "outputs": [
    {
     "name": "stdout",
     "output_type": "stream",
     "text": [
      "<class 'pandas.core.frame.DataFrame'>\n",
      "RangeIndex: 28372 entries, 0 to 28371\n",
      "Data columns (total 31 columns):\n",
      " #   Column                    Non-Null Count  Dtype  \n",
      "---  ------                    --------------  -----  \n",
      " 0   Unnamed: 0                28372 non-null  int64  \n",
      " 1   artist_name               28372 non-null  object \n",
      " 2   track_name                28372 non-null  object \n",
      " 3   release_date              28372 non-null  int64  \n",
      " 4   genre                     28372 non-null  object \n",
      " 5   lyrics                    28372 non-null  object \n",
      " 6   len                       28372 non-null  int64  \n",
      " 7   dating                    28372 non-null  float64\n",
      " 8   violence                  28372 non-null  float64\n",
      " 9   world/life                28372 non-null  float64\n",
      " 10  night/time                28372 non-null  float64\n",
      " 11  shake the audience        28372 non-null  float64\n",
      " 12  family/gospel             28372 non-null  float64\n",
      " 13  romantic                  28372 non-null  float64\n",
      " 14  communication             28372 non-null  float64\n",
      " 15  obscene                   28372 non-null  float64\n",
      " 16  music                     28372 non-null  float64\n",
      " 17  movement/places           28372 non-null  float64\n",
      " 18  light/visual perceptions  28372 non-null  float64\n",
      " 19  family/spiritual          28372 non-null  float64\n",
      " 20  like/girls                28372 non-null  float64\n",
      " 21  sadness                   28372 non-null  float64\n",
      " 22  feelings                  28372 non-null  float64\n",
      " 23  danceability              28372 non-null  float64\n",
      " 24  loudness                  28372 non-null  float64\n",
      " 25  acousticness              28372 non-null  float64\n",
      " 26  instrumentalness          28372 non-null  float64\n",
      " 27  valence                   28372 non-null  float64\n",
      " 28  energy                    28372 non-null  float64\n",
      " 29  topic                     28372 non-null  object \n",
      " 30  age                       28372 non-null  float64\n",
      "dtypes: float64(23), int64(3), object(5)\n",
      "memory usage: 6.7+ MB\n"
     ]
    }
   ],
   "source": [
    "df.info()"
   ]
  },
  {
   "cell_type": "code",
   "execution_count": 12,
   "id": "ef64e4ba",
   "metadata": {},
   "outputs": [
    {
     "data": {
      "application/vnd.microsoft.datawrangler.viewer.v0+json": {
       "columns": [
        {
         "name": "index",
         "rawType": "int64",
         "type": "integer"
        },
        {
         "name": "Unnamed: 0",
         "rawType": "int64",
         "type": "integer"
        },
        {
         "name": "artist_name",
         "rawType": "object",
         "type": "string"
        },
        {
         "name": "track_name",
         "rawType": "object",
         "type": "string"
        },
        {
         "name": "release_date",
         "rawType": "int64",
         "type": "integer"
        },
        {
         "name": "genre",
         "rawType": "object",
         "type": "string"
        },
        {
         "name": "lyrics",
         "rawType": "object",
         "type": "string"
        },
        {
         "name": "len",
         "rawType": "int64",
         "type": "integer"
        },
        {
         "name": "dating",
         "rawType": "float64",
         "type": "float"
        },
        {
         "name": "violence",
         "rawType": "float64",
         "type": "float"
        },
        {
         "name": "world/life",
         "rawType": "float64",
         "type": "float"
        },
        {
         "name": "night/time",
         "rawType": "float64",
         "type": "float"
        },
        {
         "name": "shake the audience",
         "rawType": "float64",
         "type": "float"
        },
        {
         "name": "family/gospel",
         "rawType": "float64",
         "type": "float"
        },
        {
         "name": "romantic",
         "rawType": "float64",
         "type": "float"
        },
        {
         "name": "communication",
         "rawType": "float64",
         "type": "float"
        },
        {
         "name": "obscene",
         "rawType": "float64",
         "type": "float"
        },
        {
         "name": "music",
         "rawType": "float64",
         "type": "float"
        },
        {
         "name": "movement/places",
         "rawType": "float64",
         "type": "float"
        },
        {
         "name": "light/visual perceptions",
         "rawType": "float64",
         "type": "float"
        },
        {
         "name": "family/spiritual",
         "rawType": "float64",
         "type": "float"
        },
        {
         "name": "like/girls",
         "rawType": "float64",
         "type": "float"
        },
        {
         "name": "sadness",
         "rawType": "float64",
         "type": "float"
        },
        {
         "name": "feelings",
         "rawType": "float64",
         "type": "float"
        },
        {
         "name": "danceability",
         "rawType": "float64",
         "type": "float"
        },
        {
         "name": "loudness",
         "rawType": "float64",
         "type": "float"
        },
        {
         "name": "acousticness",
         "rawType": "float64",
         "type": "float"
        },
        {
         "name": "instrumentalness",
         "rawType": "float64",
         "type": "float"
        },
        {
         "name": "valence",
         "rawType": "float64",
         "type": "float"
        },
        {
         "name": "energy",
         "rawType": "float64",
         "type": "float"
        },
        {
         "name": "topic",
         "rawType": "object",
         "type": "string"
        },
        {
         "name": "age",
         "rawType": "float64",
         "type": "float"
        }
       ],
       "ref": "effd64d5-05be-4f97-ac7d-9b8881a2512d",
       "rows": [
        [
         "0",
         "0",
         "mukesh",
         "mohabbat bhi jhoothi",
         "1950",
         "pop",
         "hold time feel break feel untrue convince speak voice tear try hold hurt try forgive okay play break string feel heart want feel tell real truth hurt lie worse anymore little turn dust play house ruin run leave save like chase train late late tear try hold hurt try forgive okay play break string feel heart want feel tell real truth hurt lie worse anymore little run leave save like chase train know late late play break string feel heart want feel tell real truth hurt lie worse anymore little know little hold time feel",
         "95",
         "0.0005980861262889",
         "0.0637461276114993",
         "0.0005980861568711",
         "0.0005980861851733",
         "0.0005980861274492",
         "0.048857015216959",
         "0.0171043388602836",
         "0.2637508813174463",
         "0.0005980861613241",
         "0.0392883659255256",
         "0.000598086192264",
         "0.0005980861380272",
         "0.0005980861261369",
         "0.000598086179608",
         "0.380298895230333",
         "0.1171754514230962",
         "0.3577385465179248",
         "0.4541189139296976",
         "0.9979919658553876",
         "0.901821862348178",
         "0.3394476504534212",
         "0.1371101880258922",
         "sadness",
         "1.0"
        ],
        [
         "1",
         "4",
         "frankie laine",
         "i believe",
         "1950",
         "pop",
         "believe drop rain fall grow believe darkest night candle glow believe go astray come believe believe believe smallest prayer hear believe great hear word time hear bear baby touch leaf believe believe believe lord heaven guide sin hide believe calvary die pierce believe death rise meet heaven loud amen know believe",
         "51",
         "0.0355371338259024",
         "0.0967767422782969",
         "0.4434351738186404",
         "0.0012836971138939",
         "0.0012836970540271",
         "0.0270074773775298",
         "0.0012836971498796",
         "0.0012836971222831",
         "0.001283697114412",
         "0.1180338411682359",
         "0.0012836970925897",
         "0.2126810671851602",
         "0.0511241990177646",
         "0.0012836970563617",
         "0.0012836971300268",
         "0.0012836971751683",
         "0.3317448283331528",
         "0.64753993282568",
         "0.9548192317462166",
         "1.5283400809716598e-06",
         "0.3250206100577081",
         "0.2632402533492537",
         "world/life",
         "1.0"
        ],
        [
         "2",
         "6",
         "johnnie ray",
         "cry",
         "1950",
         "pop",
         "sweetheart send letter goodbye secret feel better wake dream think real false emotions feel heartaches hang long blue get bluer song remember cloudy hair",
         "24",
         "0.0027700831129647",
         "0.0027700832169508",
         "0.0027700833382844",
         "0.0027700833102657",
         "0.0027700831051331",
         "0.0027700831495385",
         "0.1585644656581314",
         "0.2506679099206141",
         "0.002770083254843",
         "0.3237940521915833",
         "0.0027700834662438",
         "0.0027700833214308",
         "0.0027700832919671",
         "0.0027700835135814",
         "0.0027700831908286",
         "0.225422323308264",
         "0.4562980613018521",
         "0.585288311155552",
         "0.8403612855032989",
         "0.0",
         "0.3518136850783182",
         "0.1391122525548345",
         "music",
         "1.0"
        ],
        [
         "3",
         "10",
         "pérez prado",
         "patricia",
         "1950",
         "pop",
         "kiss lips want stroll charm mambo chacha meringue heaven arm japan brag geisha care long uncle eye starry sort gleam like million dollar dream come true everybody wish steal heart away guess try eye starry sort gleam like million dollar dream come true kiss lips want stroll charm japan brag geisha care long uncle",
         "54",
         "0.048249123783699",
         "0.0015479876476494",
         "0.0015479877360062",
         "0.0015479878225723",
         "0.0215003554762122",
         "0.0015479876581524",
         "0.4115358246343062",
         "0.0015479877495862",
         "0.0015479877133966",
         "0.0015479876733447",
         "0.1292497848687442",
         "0.0015479877229543",
         "0.0015479876490571",
         "0.0811317603482602",
         "0.2258894842203273",
         "0.0015479876193977",
         "0.6869923101917037",
         "0.7444042765941081",
         "0.0839348232277341",
         "0.1993927125506072",
         "0.7753503709810387",
         "0.7437357402953926",
         "romantic",
         "1.0"
        ],
        [
         "4",
         "12",
         "giorgos papadopoulos",
         "apopse eida oneiro",
         "1950",
         "pop",
         "till darling till matter know till dream live apart know hearts till world free oceans cross mountains climb know gain loss pray loss time till dream till memory till hold till oceans cross mountains climb know gain loss pray loss time till dream till memory till hold till",
         "48",
         "0.0013495276983575",
         "0.0013495277107178",
         "0.4177722727138843",
         "0.0013495277698047",
         "0.0013495276752446",
         "0.001349527706827",
         "0.4634300948612802",
         "0.0013495278059973",
         "0.0013495276912565",
         "0.0013495276771366",
         "0.0013495277127997",
         "0.0013495277971729",
         "0.0297545651012907",
         "0.0013495276845286",
         "0.068800151628371",
         "0.0013495276709066",
         "0.2916711794649627",
         "0.6464887316360279",
         "0.9759035902646488",
         "0.000245951417004",
         "0.597073371805441",
         "0.3943754799949707",
         "romantic",
         "1.0"
        ]
       ],
       "shape": {
        "columns": 31,
        "rows": 5
       }
      },
      "text/html": [
       "<div>\n",
       "<style scoped>\n",
       "    .dataframe tbody tr th:only-of-type {\n",
       "        vertical-align: middle;\n",
       "    }\n",
       "\n",
       "    .dataframe tbody tr th {\n",
       "        vertical-align: top;\n",
       "    }\n",
       "\n",
       "    .dataframe thead th {\n",
       "        text-align: right;\n",
       "    }\n",
       "</style>\n",
       "<table border=\"1\" class=\"dataframe\">\n",
       "  <thead>\n",
       "    <tr style=\"text-align: right;\">\n",
       "      <th></th>\n",
       "      <th>Unnamed: 0</th>\n",
       "      <th>artist_name</th>\n",
       "      <th>track_name</th>\n",
       "      <th>release_date</th>\n",
       "      <th>genre</th>\n",
       "      <th>lyrics</th>\n",
       "      <th>len</th>\n",
       "      <th>dating</th>\n",
       "      <th>violence</th>\n",
       "      <th>world/life</th>\n",
       "      <th>...</th>\n",
       "      <th>sadness</th>\n",
       "      <th>feelings</th>\n",
       "      <th>danceability</th>\n",
       "      <th>loudness</th>\n",
       "      <th>acousticness</th>\n",
       "      <th>instrumentalness</th>\n",
       "      <th>valence</th>\n",
       "      <th>energy</th>\n",
       "      <th>topic</th>\n",
       "      <th>age</th>\n",
       "    </tr>\n",
       "  </thead>\n",
       "  <tbody>\n",
       "    <tr>\n",
       "      <th>0</th>\n",
       "      <td>0</td>\n",
       "      <td>mukesh</td>\n",
       "      <td>mohabbat bhi jhoothi</td>\n",
       "      <td>1950</td>\n",
       "      <td>pop</td>\n",
       "      <td>hold time feel break feel untrue convince spea...</td>\n",
       "      <td>95</td>\n",
       "      <td>0.000598</td>\n",
       "      <td>0.063746</td>\n",
       "      <td>0.000598</td>\n",
       "      <td>...</td>\n",
       "      <td>0.380299</td>\n",
       "      <td>0.117175</td>\n",
       "      <td>0.357739</td>\n",
       "      <td>0.454119</td>\n",
       "      <td>0.997992</td>\n",
       "      <td>0.901822</td>\n",
       "      <td>0.339448</td>\n",
       "      <td>0.137110</td>\n",
       "      <td>sadness</td>\n",
       "      <td>1.0</td>\n",
       "    </tr>\n",
       "    <tr>\n",
       "      <th>1</th>\n",
       "      <td>4</td>\n",
       "      <td>frankie laine</td>\n",
       "      <td>i believe</td>\n",
       "      <td>1950</td>\n",
       "      <td>pop</td>\n",
       "      <td>believe drop rain fall grow believe darkest ni...</td>\n",
       "      <td>51</td>\n",
       "      <td>0.035537</td>\n",
       "      <td>0.096777</td>\n",
       "      <td>0.443435</td>\n",
       "      <td>...</td>\n",
       "      <td>0.001284</td>\n",
       "      <td>0.001284</td>\n",
       "      <td>0.331745</td>\n",
       "      <td>0.647540</td>\n",
       "      <td>0.954819</td>\n",
       "      <td>0.000002</td>\n",
       "      <td>0.325021</td>\n",
       "      <td>0.263240</td>\n",
       "      <td>world/life</td>\n",
       "      <td>1.0</td>\n",
       "    </tr>\n",
       "    <tr>\n",
       "      <th>2</th>\n",
       "      <td>6</td>\n",
       "      <td>johnnie ray</td>\n",
       "      <td>cry</td>\n",
       "      <td>1950</td>\n",
       "      <td>pop</td>\n",
       "      <td>sweetheart send letter goodbye secret feel bet...</td>\n",
       "      <td>24</td>\n",
       "      <td>0.002770</td>\n",
       "      <td>0.002770</td>\n",
       "      <td>0.002770</td>\n",
       "      <td>...</td>\n",
       "      <td>0.002770</td>\n",
       "      <td>0.225422</td>\n",
       "      <td>0.456298</td>\n",
       "      <td>0.585288</td>\n",
       "      <td>0.840361</td>\n",
       "      <td>0.000000</td>\n",
       "      <td>0.351814</td>\n",
       "      <td>0.139112</td>\n",
       "      <td>music</td>\n",
       "      <td>1.0</td>\n",
       "    </tr>\n",
       "    <tr>\n",
       "      <th>3</th>\n",
       "      <td>10</td>\n",
       "      <td>pérez prado</td>\n",
       "      <td>patricia</td>\n",
       "      <td>1950</td>\n",
       "      <td>pop</td>\n",
       "      <td>kiss lips want stroll charm mambo chacha merin...</td>\n",
       "      <td>54</td>\n",
       "      <td>0.048249</td>\n",
       "      <td>0.001548</td>\n",
       "      <td>0.001548</td>\n",
       "      <td>...</td>\n",
       "      <td>0.225889</td>\n",
       "      <td>0.001548</td>\n",
       "      <td>0.686992</td>\n",
       "      <td>0.744404</td>\n",
       "      <td>0.083935</td>\n",
       "      <td>0.199393</td>\n",
       "      <td>0.775350</td>\n",
       "      <td>0.743736</td>\n",
       "      <td>romantic</td>\n",
       "      <td>1.0</td>\n",
       "    </tr>\n",
       "    <tr>\n",
       "      <th>4</th>\n",
       "      <td>12</td>\n",
       "      <td>giorgos papadopoulos</td>\n",
       "      <td>apopse eida oneiro</td>\n",
       "      <td>1950</td>\n",
       "      <td>pop</td>\n",
       "      <td>till darling till matter know till dream live ...</td>\n",
       "      <td>48</td>\n",
       "      <td>0.001350</td>\n",
       "      <td>0.001350</td>\n",
       "      <td>0.417772</td>\n",
       "      <td>...</td>\n",
       "      <td>0.068800</td>\n",
       "      <td>0.001350</td>\n",
       "      <td>0.291671</td>\n",
       "      <td>0.646489</td>\n",
       "      <td>0.975904</td>\n",
       "      <td>0.000246</td>\n",
       "      <td>0.597073</td>\n",
       "      <td>0.394375</td>\n",
       "      <td>romantic</td>\n",
       "      <td>1.0</td>\n",
       "    </tr>\n",
       "  </tbody>\n",
       "</table>\n",
       "<p>5 rows × 31 columns</p>\n",
       "</div>"
      ],
      "text/plain": [
       "   Unnamed: 0           artist_name            track_name  release_date genre  \\\n",
       "0           0                mukesh  mohabbat bhi jhoothi          1950   pop   \n",
       "1           4         frankie laine             i believe          1950   pop   \n",
       "2           6           johnnie ray                   cry          1950   pop   \n",
       "3          10           pérez prado              patricia          1950   pop   \n",
       "4          12  giorgos papadopoulos    apopse eida oneiro          1950   pop   \n",
       "\n",
       "                                              lyrics  len    dating  violence  \\\n",
       "0  hold time feel break feel untrue convince spea...   95  0.000598  0.063746   \n",
       "1  believe drop rain fall grow believe darkest ni...   51  0.035537  0.096777   \n",
       "2  sweetheart send letter goodbye secret feel bet...   24  0.002770  0.002770   \n",
       "3  kiss lips want stroll charm mambo chacha merin...   54  0.048249  0.001548   \n",
       "4  till darling till matter know till dream live ...   48  0.001350  0.001350   \n",
       "\n",
       "   world/life  ...   sadness  feelings  danceability  loudness  acousticness  \\\n",
       "0    0.000598  ...  0.380299  0.117175      0.357739  0.454119      0.997992   \n",
       "1    0.443435  ...  0.001284  0.001284      0.331745  0.647540      0.954819   \n",
       "2    0.002770  ...  0.002770  0.225422      0.456298  0.585288      0.840361   \n",
       "3    0.001548  ...  0.225889  0.001548      0.686992  0.744404      0.083935   \n",
       "4    0.417772  ...  0.068800  0.001350      0.291671  0.646489      0.975904   \n",
       "\n",
       "   instrumentalness   valence    energy       topic  age  \n",
       "0          0.901822  0.339448  0.137110     sadness  1.0  \n",
       "1          0.000002  0.325021  0.263240  world/life  1.0  \n",
       "2          0.000000  0.351814  0.139112       music  1.0  \n",
       "3          0.199393  0.775350  0.743736    romantic  1.0  \n",
       "4          0.000246  0.597073  0.394375    romantic  1.0  \n",
       "\n",
       "[5 rows x 31 columns]"
      ]
     },
     "execution_count": 12,
     "metadata": {},
     "output_type": "execute_result"
    }
   ],
   "source": [
    "df.head()"
   ]
  },
  {
   "cell_type": "code",
   "execution_count": 13,
   "id": "89770d3b",
   "metadata": {},
   "outputs": [
    {
     "data": {
      "text/plain": [
       "Index(['Unnamed: 0', 'artist_name', 'track_name', 'release_date', 'genre',\n",
       "       'lyrics', 'len', 'dating', 'violence', 'world/life', 'night/time',\n",
       "       'shake the audience', 'family/gospel', 'romantic', 'communication',\n",
       "       'obscene', 'music', 'movement/places', 'light/visual perceptions',\n",
       "       'family/spiritual', 'like/girls', 'sadness', 'feelings', 'danceability',\n",
       "       'loudness', 'acousticness', 'instrumentalness', 'valence', 'energy',\n",
       "       'topic', 'age'],\n",
       "      dtype='object')"
      ]
     },
     "execution_count": 13,
     "metadata": {},
     "output_type": "execute_result"
    }
   ],
   "source": [
    "df.columns"
   ]
  },
  {
   "cell_type": "code",
   "execution_count": 16,
   "id": "c03a4949",
   "metadata": {},
   "outputs": [
    {
     "data": {
      "application/vnd.microsoft.datawrangler.viewer.v0+json": {
       "columns": [
        {
         "name": "index",
         "rawType": "object",
         "type": "string"
        },
        {
         "name": "0",
         "rawType": "int64",
         "type": "integer"
        }
       ],
       "ref": "58da6439-5a87-4582-b703-3223f00e69f3",
       "rows": [
        [
         "Unnamed: 0",
         "0"
        ],
        [
         "artist_name",
         "0"
        ],
        [
         "track_name",
         "0"
        ],
        [
         "release_date",
         "0"
        ],
        [
         "genre",
         "0"
        ],
        [
         "lyrics",
         "0"
        ],
        [
         "len",
         "0"
        ],
        [
         "dating",
         "0"
        ],
        [
         "violence",
         "0"
        ],
        [
         "world/life",
         "0"
        ],
        [
         "night/time",
         "0"
        ],
        [
         "shake the audience",
         "0"
        ],
        [
         "family/gospel",
         "0"
        ],
        [
         "romantic",
         "0"
        ],
        [
         "communication",
         "0"
        ],
        [
         "obscene",
         "0"
        ],
        [
         "music",
         "0"
        ],
        [
         "movement/places",
         "0"
        ],
        [
         "light/visual perceptions",
         "0"
        ],
        [
         "family/spiritual",
         "0"
        ],
        [
         "like/girls",
         "0"
        ],
        [
         "sadness",
         "0"
        ],
        [
         "feelings",
         "0"
        ],
        [
         "danceability",
         "0"
        ],
        [
         "loudness",
         "0"
        ],
        [
         "acousticness",
         "0"
        ],
        [
         "instrumentalness",
         "0"
        ],
        [
         "valence",
         "0"
        ],
        [
         "energy",
         "0"
        ],
        [
         "topic",
         "0"
        ],
        [
         "age",
         "0"
        ]
       ],
       "shape": {
        "columns": 1,
        "rows": 31
       }
      },
      "text/plain": [
       "Unnamed: 0                  0\n",
       "artist_name                 0\n",
       "track_name                  0\n",
       "release_date                0\n",
       "genre                       0\n",
       "lyrics                      0\n",
       "len                         0\n",
       "dating                      0\n",
       "violence                    0\n",
       "world/life                  0\n",
       "night/time                  0\n",
       "shake the audience          0\n",
       "family/gospel               0\n",
       "romantic                    0\n",
       "communication               0\n",
       "obscene                     0\n",
       "music                       0\n",
       "movement/places             0\n",
       "light/visual perceptions    0\n",
       "family/spiritual            0\n",
       "like/girls                  0\n",
       "sadness                     0\n",
       "feelings                    0\n",
       "danceability                0\n",
       "loudness                    0\n",
       "acousticness                0\n",
       "instrumentalness            0\n",
       "valence                     0\n",
       "energy                      0\n",
       "topic                       0\n",
       "age                         0\n",
       "dtype: int64"
      ]
     },
     "execution_count": 16,
     "metadata": {},
     "output_type": "execute_result"
    }
   ],
   "source": [
    "df.isnull().sum()"
   ]
  },
  {
   "cell_type": "code",
   "execution_count": 17,
   "id": "15ce3df8",
   "metadata": {},
   "outputs": [
    {
     "data": {
      "text/plain": [
       "np.int64(0)"
      ]
     },
     "execution_count": 17,
     "metadata": {},
     "output_type": "execute_result"
    }
   ],
   "source": [
    "df.duplicated().sum()"
   ]
  }
 ],
 "metadata": {
  "kernelspec": {
   "display_name": "Python 3",
   "language": "python",
   "name": "python3"
  },
  "language_info": {
   "codemirror_mode": {
    "name": "ipython",
    "version": 3
   },
   "file_extension": ".py",
   "mimetype": "text/x-python",
   "name": "python",
   "nbconvert_exporter": "python",
   "pygments_lexer": "ipython3",
   "version": "3.13.7"
  }
 },
 "nbformat": 4,
 "nbformat_minor": 5
}
